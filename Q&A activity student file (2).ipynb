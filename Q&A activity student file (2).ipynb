{
 "cells": [
  {
   "cell_type": "markdown",
   "metadata": {
    "id": "4z_Z-K1tlrS7"
   },
   "source": [
    "## 1. Complete the following code to find the area of an equilateral triangle. Output should be as displayed"
   ]
  },
  {
   "cell_type": "code",
   "execution_count": 1,
   "metadata": {
    "id": "rP2qFD_SlrS_"
   },
   "outputs": [
    {
     "name": "stdout",
     "output_type": "stream",
     "text": [
      "Enter the side of the equilateral triangle: 5\n",
      "Area:  10.825 sq.units\n"
     ]
    }
   ],
   "source": [
    "#code from Ajith\n",
    "import math\n",
    "side = float(input(\"Enter the side of the equilateral triangle: \"))\n",
    "area = ((math.sqrt(3))/4)*pow(side,2)\n",
    "print(\"Area: \",round(area,3),'sq.units')"
   ]
  },
  {
   "cell_type": "markdown",
   "metadata": {
    "id": "TjVKjIfclrTB"
   },
   "source": [
    "## 2. Write a program to count the number of each characters in a string"
   ]
  },
  {
   "cell_type": "code",
   "execution_count": 2,
   "metadata": {
    "id": "JY5seVUQlrTC"
   },
   "outputs": [
    {
     "name": "stdout",
     "output_type": "stream",
     "text": [
      "Enter a string value: MALAYALAM\n",
      "M = 2 A = 4 L = 2 Y = 1 "
     ]
    }
   ],
   "source": [
    "#code from Ajith\n",
    "string=input(\"Enter a string value: \")\n",
    "all = {}\n",
    "for i in string:\n",
    "    if i in all:\n",
    "        all[i] += 1\n",
    "    else:\n",
    "        all[i] = 1\n",
    "for i in all:\n",
    "    print(i,\"=\",all[i],end=\" \")"
   ]
  },
  {
   "cell_type": "markdown",
   "metadata": {
    "id": "l3LCULfklrTD"
   },
   "source": [
    "## Write a program to find the area and perimeter of a rectangle using functions"
   ]
  },
  {
   "cell_type": "code",
   "execution_count": 3,
   "metadata": {
    "id": "8haQD8edlrTD"
   },
   "outputs": [
    {
     "name": "stdout",
     "output_type": "stream",
     "text": [
      "Enter the value of lenght: 8\n",
      "Enter the value of breadth: 9\n",
      "The area of the rectangle is 72 sq.units\n",
      "The perimeter of the rectangle is 34 units\n"
     ]
    }
   ],
   "source": [
    "#code from Shilpa\n",
    "def area(l,b):\n",
    "    print('The area of the rectangle is',l*b,'sq.units')\n",
    "def perimeter(l,b):\n",
    "    print('The perimeter of the rectangle is',2*(l+b),'units')\n",
    "x=int(input('Enter the value of lenght: '))\n",
    "y=int(input('Enter the value of breadth: '))\n",
    "area(x,y)\n",
    "perimeter(x,y)"
   ]
  },
  {
   "cell_type": "code",
   "execution_count": 4,
   "metadata": {},
   "outputs": [
    {
     "name": "stdout",
     "output_type": "stream",
     "text": [
      "Enter the length of the rectangle:9\n",
      "Enter the breadth of the rectangle:10\n",
      "Area of the rectangle = 90\n",
      "Perimeter of the rectangle = 38\n"
     ]
    }
   ],
   "source": [
    "#code of Daina maria johnson\n",
    "def area(l,b):  \n",
    "     area=l*b   \n",
    "     return area \n",
    "def peri(l,b):  \n",
    "    perimeter=2*(l+b)  \n",
    "    return perimeter \n",
    "l=int(input ('Enter the length of the rectangle:')) \n",
    "b=int(input ('Enter the breadth of the rectangle:')) \n",
    "print(\"Area of the rectangle\",\"=\", area(l,b)) \n",
    "print(\"Perimeter of the rectangle\",\"=\", peri(l,b))"
   ]
  },
  {
   "cell_type": "markdown",
   "metadata": {
    "id": "JHK4ZdsflrTE"
   },
   "source": [
    "## 4. Write a program to print the fibonacci series till a specified number"
   ]
  },
  {
   "cell_type": "code",
   "execution_count": 5,
   "metadata": {
    "id": "LyBEj-4SlrTE"
   },
   "outputs": [
    {
     "name": "stdout",
     "output_type": "stream",
     "text": [
      "Enter a limit: 5\n",
      "Fibonacci sequence:\n",
      "0\n",
      "1\n",
      "1\n",
      "2\n",
      "3\n"
     ]
    }
   ],
   "source": [
    "#code from Shilpa\n",
    "limit=int(input(\"Enter a limit: \"))\n",
    "n1, n2 = 0, 1\n",
    "count = 0\n",
    "if limit <= 0:\n",
    "   print(\"Please enter a positive integer\")\n",
    "elif limit == 1:\n",
    "   print(\"Fibonacci sequence upto\",limit,\":\")\n",
    "   print(n1)\n",
    "else:\n",
    "   print(\"Fibonacci sequence:\")\n",
    "   while count < limit:\n",
    "       print(n1)\n",
    "       nth = n1 + n2\n",
    "       n1 = n2\n",
    "       n2 = nth\n",
    "       count += 1"
   ]
  },
  {
   "cell_type": "code",
   "execution_count": 6,
   "metadata": {},
   "outputs": [
    {
     "name": "stdout",
     "output_type": "stream",
     "text": [
      "Enter the number of terms that you want to include in the Fibonacci series excluding 0:6\n",
      "0\n",
      "1\n",
      "1\n",
      "2\n",
      "3\n",
      "5\n",
      "8\n"
     ]
    }
   ],
   "source": [
    "#code of Daina maria johnson\n",
    "def fib(number_of_terms):\n",
    "    counter=0      \n",
    "    first=0      \n",
    "    second=1      \n",
    "    temp=0      \n",
    "    while counter<=number_of_terms:          \n",
    "        print(first)        \n",
    "        temp=first+second         \n",
    "        first=second         \n",
    "        second=temp        \n",
    "        counter+=1\n",
    "count=int(input(\"Enter the number of terms that you want to include in the Fibonacci series excluding 0:\")) \n",
    "fib(count) "
   ]
  },
  {
   "cell_type": "markdown",
   "metadata": {
    "id": "u4uBUcQKlrTE"
   },
   "source": [
    "## 5. Complete the following code to find the minimum of 3 number using cinditional statements. Output should be as displayed"
   ]
  },
  {
   "cell_type": "code",
   "execution_count": 8,
   "metadata": {},
   "outputs": [
    {
     "name": "stdout",
     "output_type": "stream",
     "text": [
      "Enter three numbers followed by :2 4 3\n",
      "First number : 2\n",
      "Second number : 4\n",
      "Third number : 3\n",
      "2  is smallest\n"
     ]
    }
   ],
   "source": [
    "#code from Gokul\n",
    "a,b,c = [int(x) for x in input(\"Enter three numbers followed by :\").split()]\n",
    "\n",
    "print(\"First number :\",a)\n",
    "print(\"Second number :\",b)\n",
    "print(\"Third number :\",c)\n",
    "\n",
    "if a == b and b == c:\n",
    "    print(\"Entered numbers are equal!!!\")\n",
    "elif (a < b and a < c):\n",
    "    print(a,\" is smallest\")\n",
    "elif (b < a and b < c):\n",
    "    print(b,\" is smallest\")\n",
    "else:\n",
    "    print(c,\" is smallest\")"
   ]
  },
  {
   "cell_type": "markdown",
   "metadata": {
    "id": "aR_CnToWlrTG"
   },
   "source": [
    "## 6. Write a program to print star pyramind. The number of rows should be taken as input from the user"
   ]
  },
  {
   "cell_type": "code",
   "execution_count": 9,
   "metadata": {
    "id": "M37A-buplrTG"
   },
   "outputs": [
    {
     "name": "stdout",
     "output_type": "stream",
     "text": [
      "Please Enter number of rows: 5\n",
      "*  \n",
      "\n",
      "*  *  \n",
      "\n",
      "*  *  *  \n",
      "\n",
      "*  *  *  *  \n",
      "\n",
      "*  *  *  *  *  \n",
      "\n"
     ]
    }
   ],
   "source": [
    "#code from Gokul\n",
    "# program to print star right angled half pyramid\n",
    "r=int(input(\"Please Enter number of rows: \"))\n",
    "\n",
    "for i in range(r):\n",
    "    for j in range(i+1):\n",
    "         print(\"*\",end=\"  \")\n",
    "    print(\"\\n\")"
   ]
  },
  {
   "cell_type": "markdown",
   "metadata": {
    "id": "tlY6aFWBlrTH"
   },
   "source": [
    "## 7. Complete the following code to convert hour into seconds. Output should be as displayed"
   ]
  },
  {
   "cell_type": "code",
   "execution_count": 10,
   "metadata": {
    "id": "YOZQFk7FlrTH"
   },
   "outputs": [
    {
     "name": "stdout",
     "output_type": "stream",
     "text": [
      "Enter the hour:5\n",
      "5  Hour is equal to 18000  Seconds\n"
     ]
    }
   ],
   "source": [
    "#code from shilpa\n",
    "def to_seconds(t):\n",
    "    t = t * 3600\n",
    "    return t\n",
    "time_in_hours = int(input(\"Enter the hour:\"))\n",
    "print(time_in_hours ,\" Hour is equal to\" ,to_seconds(time_in_hours) ,\" Seconds\")"
   ]
  },
  {
   "cell_type": "markdown",
   "metadata": {
    "id": "CnYorNiLlrTI"
   },
   "source": [
    "## 8. Write a program to print multiplication table as below"
   ]
  },
  {
   "cell_type": "code",
   "execution_count": 11,
   "metadata": {
    "id": "dPQqDPuDlrTI"
   },
   "outputs": [
    {
     "name": "stdout",
     "output_type": "stream",
     "text": [
      "Enter a number:9\n",
      "9 x 1 = 9\n",
      "9 x 2 = 18\n",
      "9 x 3 = 27\n",
      "9 x 4 = 36\n",
      "9 x 5 = 45\n",
      "9 x 6 = 54\n",
      "9 x 7 = 63\n",
      "9 x 8 = 72\n",
      "9 x 9 = 81\n",
      "9 x 10 = 90\n"
     ]
    }
   ],
   "source": [
    "#code from shilpa\n",
    "num = int(input(\"Enter a number:\"))\n",
    "for i in range(1, 11):\n",
    "   print(num, 'x', i, '=', num*i)"
   ]
  },
  {
   "cell_type": "markdown",
   "metadata": {
    "id": "Fiaez8iblrTI"
   },
   "source": [
    "## 9. Write a program to take your 5 favorite food as list and print each as 'I like Biriyani'"
   ]
  },
  {
   "cell_type": "code",
   "execution_count": 12,
   "metadata": {
    "id": "39W1zFX7lrTJ"
   },
   "outputs": [
    {
     "name": "stdout",
     "output_type": "stream",
     "text": [
      "Enter your favourite food:BIRIYANI\n",
      "Enter your favourite food:DOSA\n",
      "Enter your favourite food:IDLI\n",
      "Enter your favourite food:POORI\n",
      "Enter your favourite food:PUTTU\n",
      "['BIRIYANI', 'DOSA', 'IDLI', 'POORI', 'PUTTU']\n",
      "I Like  BIRIYANI\n",
      "I Like  DOSA\n",
      "I Like  IDLI\n",
      "I Like  POORI\n",
      "I Like  PUTTU\n"
     ]
    }
   ],
   "source": [
    "#code from shilpa\n",
    "food=[]\n",
    "for i in range(5):\n",
    "    f=input(\"Enter your favourite food:\")\n",
    "    food.append(f)\n",
    "print(food)\n",
    "for i in food:\n",
    "    print(\"I Like \",i)"
   ]
  },
  {
   "cell_type": "code",
   "execution_count": 13,
   "metadata": {},
   "outputs": [
    {
     "name": "stdout",
     "output_type": "stream",
     "text": [
      "I like biriyani\n",
      "I like noodles\n",
      "I like masaladosa\n",
      "I like meals\n",
      "I like icecream\n"
     ]
    }
   ],
   "source": [
    "#code from Wafaha K P\n",
    "food=['biriyani','noodles','masaladosa','meals','icecream']\n",
    "for i in food:\n",
    "    print('I like',i)"
   ]
  },
  {
   "cell_type": "markdown",
   "metadata": {
    "id": "3vlcDNNEP7d_"
   },
   "source": [
    "## 10. Find error(s) in the following code(if any) and rewrite code.\n",
    "\n"
   ]
  },
  {
   "cell_type": "code",
   "execution_count": 14,
   "metadata": {
    "id": "coREkcY3P9sG"
   },
   "outputs": [
    {
     "name": "stdout",
     "output_type": "stream",
     "text": [
      "Enter value of x:5\n",
      "X and Y are unequal\n",
      "X and Y are unequal\n",
      "X and Y are unequal\n",
      "X and Y are unequal\n",
      "X and Y are unequal\n",
      "X and Y are equal\n",
      "X and Y are unequal\n",
      "X and Y are unequal\n",
      "X and Y are unequal\n",
      "X and Y are unequal\n"
     ]
    }
   ],
   "source": [
    "#code from Wafaha K P\n",
    "x= int(input(\"Enter value of x:\"))\n",
    "\n",
    "for y in range(0,10):\n",
    "    if x==y:\n",
    "        print(\"X and Y are equal\")\n",
    "    \n",
    "    else:\n",
    "        print(\"X and Y are unequal\")"
   ]
  },
  {
   "cell_type": "code",
   "execution_count": null,
   "metadata": {},
   "outputs": [],
   "source": []
  },
  {
   "cell_type": "code",
   "execution_count": null,
   "metadata": {},
   "outputs": [],
   "source": []
  }
 ],
 "metadata": {
  "colab": {
   "collapsed_sections": [],
   "name": "Q&A activity student file.ipynb",
   "provenance": []
  },
  "kernelspec": {
   "display_name": "Python 3",
   "language": "python",
   "name": "python3"
  },
  "language_info": {
   "codemirror_mode": {
    "name": "ipython",
    "version": 3
   },
   "file_extension": ".py",
   "mimetype": "text/x-python",
   "name": "python",
   "nbconvert_exporter": "python",
   "pygments_lexer": "ipython3",
   "version": "3.7.3"
  }
 },
 "nbformat": 4,
 "nbformat_minor": 1
}
